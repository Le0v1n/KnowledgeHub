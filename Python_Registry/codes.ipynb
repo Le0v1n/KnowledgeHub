{
 "cells": [
  {
   "cell_type": "markdown",
   "metadata": {},
   "source": [
    "# 1. 理解 Python 函数"
   ]
  },
  {
   "cell_type": "code",
   "execution_count": 1,
   "metadata": {},
   "outputs": [
    {
     "name": "stdout",
     "output_type": "stream",
     "text": [
      "foo(): I am Le0v1n\n",
      "fn(): I am Le0v1n\n"
     ]
    }
   ],
   "source": [
    "def foo():\n",
    "    return \"I am Le0v1n\"\n",
    "\n",
    "print(f\"foo(): {foo()}\")\n",
    "\n",
    "\n",
    "fn = foo  # 这里 foo 后面没有小括号，不是函数调用，而是将 foo 函数赋值给变量 fn\n",
    "print(f\"fn(): {fn()}\")"
   ]
  },
  {
   "cell_type": "code",
   "execution_count": 5,
   "metadata": {},
   "outputs": [
    {
     "name": "stdout",
     "output_type": "stream",
     "text": [
      "foo 函数正在运行...\n",
      "foo.bar 函数正在运行...\n",
      "foo.bam 函数正在运行...\n",
      "foo 函数即将结束!\n",
      "报错啦: name 'bar' is not defined\n",
      "报错啦: name 'bam' is not defined\n"
     ]
    }
   ],
   "source": [
    "def foo():\n",
    "    print(\"foo 函数正在运行...\")\n",
    "    \n",
    "    # 定义函数中的函数\n",
    "    def bar():\n",
    "        return \"foo.bar 函数正在运行...\"\n",
    "    \n",
    "    def bam():\n",
    "        return \"foo.bam 函数正在运行...\"\n",
    "        \n",
    "    # 调用函数中的函数\n",
    "    print(bar())\n",
    "    print(bam())\n",
    "    print(\"foo 函数即将结束!\")\n",
    "    \n",
    "\n",
    "if __name__ == \"__main__\":\n",
    "    foo()\n",
    "    \n",
    "    # 如果我们调用函数中的函数\n",
    "    try:\n",
    "        bar()\n",
    "    except Exception as e:\n",
    "        print(f\"报错啦: {e}\")\n",
    "        \n",
    "    try:\n",
    "        bam()\n",
    "    except Exception as e:\n",
    "        print(f\"报错啦: {e}\")"
   ]
  },
  {
   "cell_type": "code",
   "execution_count": 7,
   "metadata": {},
   "outputs": [
    {
     "name": "stdout",
     "output_type": "stream",
     "text": [
      "foo 函数正在运行...\n",
      "foo 函数即将结束!\n",
      "foo 函数正在运行...\n",
      "foo 函数即将结束!\n",
      "<function foo.<locals>.bar at 0x000001D72F1ECE50>\n",
      "<function foo.<locals>.bam at 0x000001D72F2558B0>\n",
      "foo.bar 函数正在运行...\n",
      "foo.bam 函数正在运行...\n"
     ]
    }
   ],
   "source": [
    "def foo(choice='bar'):\n",
    "    print(\"foo 函数正在运行...\")\n",
    "\n",
    "    # 定义函数中的函数\n",
    "    def bar():\n",
    "        return \"foo.bar 函数正在运行...\"\n",
    "\n",
    "    def bam():\n",
    "        return \"foo.bam 函数正在运行...\"\n",
    "\n",
    "    print(\"foo 函数即将结束!\")\n",
    "\n",
    "    if choice == 'bar':\n",
    "        return bar\n",
    "    elif choice == 'bam':\n",
    "        return bam\n",
    "    else:\n",
    "        raise NotImplementedError(\"choice 必须是 bar 或 bam !\")\n",
    "\n",
    "\n",
    "if __name__ == \"__main__\":\n",
    "    fn1 = foo(choice='bar')\n",
    "    fn2 = foo(choice='bam')\n",
    "    print(fn1)\n",
    "    print(fn2)\n",
    "    print(fn1())\n",
    "    print(fn2())\n"
   ]
  },
  {
   "cell_type": "code",
   "execution_count": 11,
   "metadata": {},
   "outputs": [
    {
     "name": "stdout",
     "output_type": "stream",
     "text": [
      "I am bar\n",
      "I am foo\n",
      "\n",
      "I am bar\n",
      "报错啦: 'str' object is not callable\n"
     ]
    }
   ],
   "source": [
    "def foo():\n",
    "    return \"I am foo\"\n",
    "\n",
    "def bar(fn):\n",
    "    print(\"I am bar\")\n",
    "    print(fn())\n",
    "    \n",
    "    \n",
    "if __name__ == \"__main__\":\n",
    "    bar(foo)\n",
    "    print()\n",
    "    \n",
    "    try:\n",
    "        bar(foo())\n",
    "    except Exception as e:\n",
    "        print(f\"报错啦: {e}\")"
   ]
  },
  {
   "cell_type": "code",
   "execution_count": 15,
   "metadata": {},
   "outputs": [
    {
     "name": "stdout",
     "output_type": "stream",
     "text": [
      "直接调用函数: I am foo!\n",
      "\n",
      "调用包装后的foo函数: \n",
      "---------- 函数调用前 ----------\n",
      "I am foo!\n",
      "---------- 函数调用后 ----------\n",
      "\n"
     ]
    }
   ],
   "source": [
    "def decorator(fn):\n",
    "    def wrapper():\n",
    "        print(\"---------- 函数调用前 ----------\")\n",
    "        fn()  # 调用函数\n",
    "        print(\"---------- 函数调用后 ----------\")\n",
    "    return wrapper\n",
    "\n",
    "\n",
    "def foo():\n",
    "    print(\"I am foo!\")\n",
    "    \n",
    "    \n",
    "if __name__ == \"__main__\":\n",
    "    # 直接调用函数\n",
    "    print(\"直接调用函数: \", end=\"\")\n",
    "    foo()\n",
    "    print()\n",
    "\n",
    "    # 调用装饰器包装后函数\n",
    "    fn = decorator(foo)  # 将foo函数用装饰器包装 -> fn\n",
    "    print(\"调用包装后的foo函数: \")\n",
    "    fn()  # 调用包装后的foo函数\n",
    "    print()"
   ]
  },
  {
   "cell_type": "markdown",
   "metadata": {},
   "source": [
    "# 2. 理解Python装饰器"
   ]
  },
  {
   "cell_type": "code",
   "execution_count": 20,
   "metadata": {},
   "outputs": [
    {
     "name": "stdout",
     "output_type": "stream",
     "text": [
      "直接调用函数: \n",
      "---------- 函数调用前 ----------\n",
      "I am foo\n",
      "---------- 函数调用后 ----------\n",
      "\n",
      "函数的名称: wrapper\n"
     ]
    }
   ],
   "source": [
    "def decorator(fn):\n",
    "    def wrapper():\n",
    "        print(\"---------- 函数调用前 ----------\")\n",
    "        fn()\n",
    "        print(\"---------- 函数调用后 ----------\")\n",
    "\n",
    "    return wrapper\n",
    "    \n",
    "\n",
    "@decorator  # @装饰器名称\n",
    "def foo():\n",
    "    print(\"I am foo\")\n",
    "    \n",
    "    \n",
    "if __name__ == \"__main__\":\n",
    "    # 直接调用函数\n",
    "    print(\"直接调用函数: \")\n",
    "    foo()\n",
    "    print()\n",
    "\n",
    "    print(f\"函数的名称: {foo.__name__}\")"
   ]
  },
  {
   "cell_type": "code",
   "execution_count": 24,
   "metadata": {},
   "outputs": [
    {
     "name": "stdout",
     "output_type": "stream",
     "text": [
      "直接调用函数: \n",
      "---------- 函数调用前 ----------\n",
      "I am foo\n",
      "---------- 函数调用后 ----------\n",
      "\n",
      "函数的名称: foo\n"
     ]
    }
   ],
   "source": [
    "from functools import wraps\n",
    "\n",
    "\n",
    "def decorator(fn):\n",
    "    @wraps(fn)\n",
    "    def wrapper():\n",
    "        print(\"---------- 函数调用前 ----------\")\n",
    "        fn()\n",
    "        print(\"---------- 函数调用后 ----------\")\n",
    "    return wrapper\n",
    "\n",
    "\n",
    "@decorator\n",
    "def foo():\n",
    "    print(\"I am foo\")\n",
    "\n",
    "\n",
    "if __name__ == \"__main__\":\n",
    "    print(\"直接调用函数: \")\n",
    "    foo()\n",
    "    print()\n",
    "\n",
    "    print(f\"函数的名称: {foo.__name__}\")"
   ]
  },
  {
   "cell_type": "code",
   "execution_count": 42,
   "metadata": {},
   "outputs": [
    {
     "name": "stdout",
     "output_type": "stream",
     "text": [
      "---------- 函数调用前 ----------\n",
      "I am foo. \n",
      "My parameters are: \n",
      "param1: 参数1 | param2: 参数2\n",
      "---------- 函数调用后 ----------\n"
     ]
    }
   ],
   "source": [
    "from functools import wraps\n",
    "\n",
    "\n",
    "class Decorate:\n",
    "    def __init__(self, fn) -> None:\n",
    "        self.fn = fn\n",
    "\n",
    "    def __call__(self):\n",
    "        @wraps(self.fn)\n",
    "        def wrapper(*args, **kwargs):\n",
    "            print(\"---------- 函数调用前 ----------\")\n",
    "            self.fn(*args, **kwargs)\n",
    "            print(\"---------- 函数调用后 ----------\")\n",
    "        return wrapper\n",
    "\n",
    "\n",
    "@Decorate  # 用类来装饰函数，那么函数也变为了类\n",
    "def foo(param1, param2):\n",
    "    print(f\"I am foo. \\n\"\n",
    "          f\"My parameters are: \\n\"\n",
    "          f\"param1: {param1} | param2: {param2}\")\n",
    "\n",
    "\n",
    "if __name__ == \"__main__\":\n",
    "    # 实例化类对象\n",
    "    obj = foo()\n",
    "\n",
    "    # 调用对象的方法\n",
    "    obj(\"参数1\", \"参数2\")\n"
   ]
  },
  {
   "cell_type": "code",
   "execution_count": null,
   "metadata": {},
   "outputs": [],
   "source": []
  }
 ],
 "metadata": {
  "kernelspec": {
   "display_name": "learning",
   "language": "python",
   "name": "python3"
  },
  "language_info": {
   "codemirror_mode": {
    "name": "ipython",
    "version": 3
   },
   "file_extension": ".py",
   "mimetype": "text/x-python",
   "name": "python",
   "nbconvert_exporter": "python",
   "pygments_lexer": "ipython3",
   "version": "3.9.0"
  },
  "orig_nbformat": 4
 },
 "nbformat": 4,
 "nbformat_minor": 2
}
