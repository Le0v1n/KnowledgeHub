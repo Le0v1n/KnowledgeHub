{
 "cells": [
  {
   "cell_type": "markdown",
   "metadata": {},
   "source": [
    "# 1. MMCV 中的 Registry"
   ]
  },
  {
   "cell_type": "code",
   "execution_count": 8,
   "metadata": {},
   "outputs": [],
   "source": [
    "from mmcv.utils import Registry\n",
    "\n",
    "class Registry:\n",
    "    # 构造函数\n",
    "    def __init__(self, name, build_func=None, parent=None, scope=None):\n",
    "        \"\"\"\n",
    "        name (str): 注册器的名字\n",
    "        build_func(func): 从注册器构建实例的函数句柄\n",
    "        parent (Registry): 父类注册器\n",
    "        scope (str): 注册器的域名\n",
    "        \"\"\"\n",
    "        self._name = name\n",
    "        \n",
    "        # 使用 module_dict 管理字符串到类的映射 {'str': class}\n",
    "        self._module_dict = dict()\n",
    "        self._children = dict()"
   ]
  },
  {
   "cell_type": "code",
   "execution_count": 11,
   "metadata": {},
   "outputs": [
    {
     "ename": "AttributeError",
     "evalue": "'NoneType' object has no attribute '__name__'",
     "output_type": "error",
     "traceback": [
      "\u001b[1;31m---------------------------------------------------------------------------\u001b[0m",
      "\u001b[1;31mAttributeError\u001b[0m                            Traceback (most recent call last)",
      "\u001b[1;32mc:\\Users\\znv\\Desktop\\本地代码\\Learning-Notebook-Codes\\Python_Registry\\codes.ipynb 单元格 17\u001b[0m line \u001b[0;36m3\n\u001b[0;32m      <a href='vscode-notebook-cell:/c%3A/Users/znv/Desktop/%E6%9C%AC%E5%9C%B0%E4%BB%A3%E7%A0%81/Learning-Notebook-Codes/Python_Registry/codes.ipynb#X32sZmlsZQ%3D%3D?line=0'>1</a>\u001b[0m \u001b[39mimport\u001b[39;00m \u001b[39mmmcv\u001b[39;00m\n\u001b[0;32m      <a href='vscode-notebook-cell:/c%3A/Users/znv/Desktop/%E6%9C%AC%E5%9C%B0%E4%BB%A3%E7%A0%81/Learning-Notebook-Codes/Python_Registry/codes.ipynb#X32sZmlsZQ%3D%3D?line=1'>2</a>\u001b[0m \u001b[39m# 实例化一个Registry来管理模型\u001b[39;00m\n\u001b[1;32m----> <a href='vscode-notebook-cell:/c%3A/Users/znv/Desktop/%E6%9C%AC%E5%9C%B0%E4%BB%A3%E7%A0%81/Learning-Notebook-Codes/Python_Registry/codes.ipynb#X32sZmlsZQ%3D%3D?line=2'>3</a>\u001b[0m MODELS \u001b[39m=\u001b[39m mmcv\u001b[39m.\u001b[39;49mutils\u001b[39m.\u001b[39;49mRegistry(\u001b[39m\"\u001b[39;49m\u001b[39mmyModels\u001b[39;49m\u001b[39m\"\u001b[39;49m)\n\u001b[0;32m      <a href='vscode-notebook-cell:/c%3A/Users/znv/Desktop/%E6%9C%AC%E5%9C%B0%E4%BB%A3%E7%A0%81/Learning-Notebook-Codes/Python_Registry/codes.ipynb#X32sZmlsZQ%3D%3D?line=4'>5</a>\u001b[0m \u001b[39m# 方式1: 在类的创建过程中，使用函数装饰器进行注册(推荐)\u001b[39;00m\n\u001b[0;32m      <a href='vscode-notebook-cell:/c%3A/Users/znv/Desktop/%E6%9C%AC%E5%9C%B0%E4%BB%A3%E7%A0%81/Learning-Notebook-Codes/Python_Registry/codes.ipynb#X32sZmlsZQ%3D%3D?line=5'>6</a>\u001b[0m \u001b[39m@MODELS\u001b[39m\u001b[39m.\u001b[39mregister_module\n\u001b[0;32m      <a href='vscode-notebook-cell:/c%3A/Users/znv/Desktop/%E6%9C%AC%E5%9C%B0%E4%BB%A3%E7%A0%81/Learning-Notebook-Codes/Python_Registry/codes.ipynb#X32sZmlsZQ%3D%3D?line=6'>7</a>\u001b[0m \u001b[39mclass\u001b[39;00m \u001b[39mResNet\u001b[39;00m:\n",
      "File \u001b[1;32mc:\\Users\\znv\\.conda\\envs\\learning\\lib\\site-packages\\mmcv\\utils\\registry.py:115\u001b[0m, in \u001b[0;36mRegistry.__init__\u001b[1;34m(self, name, build_func, parent, scope)\u001b[0m\n\u001b[0;32m    113\u001b[0m \u001b[39mself\u001b[39m\u001b[39m.\u001b[39m_module_dict \u001b[39m=\u001b[39m \u001b[39mdict\u001b[39m()\n\u001b[0;32m    114\u001b[0m \u001b[39mself\u001b[39m\u001b[39m.\u001b[39m_children \u001b[39m=\u001b[39m \u001b[39mdict\u001b[39m()\n\u001b[1;32m--> 115\u001b[0m \u001b[39mself\u001b[39m\u001b[39m.\u001b[39m_scope \u001b[39m=\u001b[39m \u001b[39mself\u001b[39;49m\u001b[39m.\u001b[39;49minfer_scope() \u001b[39mif\u001b[39;00m scope \u001b[39mis\u001b[39;00m \u001b[39mNone\u001b[39;00m \u001b[39melse\u001b[39;00m scope\n\u001b[0;32m    117\u001b[0m \u001b[39m# self.build_func will be set with the following priority:\u001b[39;00m\n\u001b[0;32m    118\u001b[0m \u001b[39m# 1. build_func\u001b[39;00m\n\u001b[0;32m    119\u001b[0m \u001b[39m# 2. parent.build_func\u001b[39;00m\n\u001b[0;32m    120\u001b[0m \u001b[39m# 3. build_from_cfg\u001b[39;00m\n\u001b[0;32m    121\u001b[0m \u001b[39mif\u001b[39;00m build_func \u001b[39mis\u001b[39;00m \u001b[39mNone\u001b[39;00m:\n",
      "File \u001b[1;32mc:\\Users\\znv\\.conda\\envs\\learning\\lib\\site-packages\\mmcv\\utils\\registry.py:169\u001b[0m, in \u001b[0;36mRegistry.infer_scope\u001b[1;34m()\u001b[0m\n\u001b[0;32m    167\u001b[0m \u001b[39m# get the frame where `infer_scope()` is called\u001b[39;00m\n\u001b[0;32m    168\u001b[0m infer_scope_caller \u001b[39m=\u001b[39m frame\u001b[39m.\u001b[39mf_back\u001b[39m.\u001b[39mf_back\n\u001b[1;32m--> 169\u001b[0m filename \u001b[39m=\u001b[39m inspect\u001b[39m.\u001b[39;49mgetmodule(infer_scope_caller)\u001b[39m.\u001b[39;49m\u001b[39m__name__\u001b[39;49m\n\u001b[0;32m    170\u001b[0m split_filename \u001b[39m=\u001b[39m filename\u001b[39m.\u001b[39msplit(\u001b[39m'\u001b[39m\u001b[39m.\u001b[39m\u001b[39m'\u001b[39m)\n\u001b[0;32m    171\u001b[0m \u001b[39mreturn\u001b[39;00m split_filename[\u001b[39m0\u001b[39m]\n",
      "\u001b[1;31mAttributeError\u001b[0m: 'NoneType' object has no attribute '__name__'"
     ]
    }
   ],
   "source": [
    "import mmcv\n",
    "# 实例化一个Registry来管理模型\n",
    "MODELS = mmcv.utils.Registry(\"myModels\")\n",
    "\n",
    "# 方式1: 在类的创建过程中，使用函数装饰器进行注册(推荐)\n",
    "@MODELS.register_module\n",
    "class ResNet:\n",
    "    def __init__(self, depth):\n",
    "        self.depth = depth\n",
    "        print(f\"初始化 ResNet-{self.depth}...\")\n",
    "        \n",
    "# 方式2: 完成类的创建后, 再显式调用register_module进行注册 (不推荐)\n",
    "class FPN:\n",
    "    def __init__(self, in_channel):\n",
    "        self.in_channel = in_channel\n",
    "        print(f\"初始化FPN网络, 输入通道数为: {self.in_channel}\")"
   ]
  },
  {
   "cell_type": "code",
   "execution_count": 12,
   "metadata": {},
   "outputs": [
    {
     "ename": "AttributeError",
     "evalue": "'NoneType' object has no attribute '__name__'",
     "output_type": "error",
     "traceback": [
      "\u001b[1;31m---------------------------------------------------------------------------\u001b[0m",
      "\u001b[1;31mAttributeError\u001b[0m                            Traceback (most recent call last)",
      "\u001b[1;32mc:\\Users\\znv\\Desktop\\本地代码\\Learning-Notebook-Codes\\Python_Registry\\codes.ipynb 单元格 18\u001b[0m line \u001b[0;36m2\n\u001b[0;32m      <a href='vscode-notebook-cell:/c%3A/Users/znv/Desktop/%E6%9C%AC%E5%9C%B0%E4%BB%A3%E7%A0%81/Learning-Notebook-Codes/Python_Registry/codes.ipynb#X33sZmlsZQ%3D%3D?line=0'>1</a>\u001b[0m \u001b[39mfrom\u001b[39;00m \u001b[39mmmcv\u001b[39;00m\u001b[39m.\u001b[39;00m\u001b[39mutils\u001b[39;00m \u001b[39mimport\u001b[39;00m Registry\n\u001b[1;32m----> <a href='vscode-notebook-cell:/c%3A/Users/znv/Desktop/%E6%9C%AC%E5%9C%B0%E4%BB%A3%E7%A0%81/Learning-Notebook-Codes/Python_Registry/codes.ipynb#X33sZmlsZQ%3D%3D?line=1'>2</a>\u001b[0m CONVERTERS \u001b[39m=\u001b[39m Registry(\u001b[39m\"\u001b[39;49m\u001b[39mconverter\u001b[39;49m\u001b[39m\"\u001b[39;49m)\n",
      "File \u001b[1;32mc:\\Users\\znv\\.conda\\envs\\learning\\lib\\site-packages\\mmcv\\utils\\registry.py:115\u001b[0m, in \u001b[0;36mRegistry.__init__\u001b[1;34m(self, name, build_func, parent, scope)\u001b[0m\n\u001b[0;32m    113\u001b[0m \u001b[39mself\u001b[39m\u001b[39m.\u001b[39m_module_dict \u001b[39m=\u001b[39m \u001b[39mdict\u001b[39m()\n\u001b[0;32m    114\u001b[0m \u001b[39mself\u001b[39m\u001b[39m.\u001b[39m_children \u001b[39m=\u001b[39m \u001b[39mdict\u001b[39m()\n\u001b[1;32m--> 115\u001b[0m \u001b[39mself\u001b[39m\u001b[39m.\u001b[39m_scope \u001b[39m=\u001b[39m \u001b[39mself\u001b[39;49m\u001b[39m.\u001b[39;49minfer_scope() \u001b[39mif\u001b[39;00m scope \u001b[39mis\u001b[39;00m \u001b[39mNone\u001b[39;00m \u001b[39melse\u001b[39;00m scope\n\u001b[0;32m    117\u001b[0m \u001b[39m# self.build_func will be set with the following priority:\u001b[39;00m\n\u001b[0;32m    118\u001b[0m \u001b[39m# 1. build_func\u001b[39;00m\n\u001b[0;32m    119\u001b[0m \u001b[39m# 2. parent.build_func\u001b[39;00m\n\u001b[0;32m    120\u001b[0m \u001b[39m# 3. build_from_cfg\u001b[39;00m\n\u001b[0;32m    121\u001b[0m \u001b[39mif\u001b[39;00m build_func \u001b[39mis\u001b[39;00m \u001b[39mNone\u001b[39;00m:\n",
      "File \u001b[1;32mc:\\Users\\znv\\.conda\\envs\\learning\\lib\\site-packages\\mmcv\\utils\\registry.py:169\u001b[0m, in \u001b[0;36mRegistry.infer_scope\u001b[1;34m()\u001b[0m\n\u001b[0;32m    167\u001b[0m \u001b[39m# get the frame where `infer_scope()` is called\u001b[39;00m\n\u001b[0;32m    168\u001b[0m infer_scope_caller \u001b[39m=\u001b[39m frame\u001b[39m.\u001b[39mf_back\u001b[39m.\u001b[39mf_back\n\u001b[1;32m--> 169\u001b[0m filename \u001b[39m=\u001b[39m inspect\u001b[39m.\u001b[39;49mgetmodule(infer_scope_caller)\u001b[39m.\u001b[39;49m\u001b[39m__name__\u001b[39;49m\n\u001b[0;32m    170\u001b[0m split_filename \u001b[39m=\u001b[39m filename\u001b[39m.\u001b[39msplit(\u001b[39m'\u001b[39m\u001b[39m.\u001b[39m\u001b[39m'\u001b[39m)\n\u001b[0;32m    171\u001b[0m \u001b[39mreturn\u001b[39;00m split_filename[\u001b[39m0\u001b[39m]\n",
      "\u001b[1;31mAttributeError\u001b[0m: 'NoneType' object has no attribute '__name__'"
     ]
    }
   ],
   "source": [
    "from mmcv.utils import Registry\n",
    "CONVERTERS = Registry(\"converter\")"
   ]
  },
  {
   "cell_type": "code",
   "execution_count": null,
   "metadata": {},
   "outputs": [],
   "source": []
  }
 ],
 "metadata": {
  "kernelspec": {
   "display_name": "learning",
   "language": "python",
   "name": "python3"
  },
  "language_info": {
   "codemirror_mode": {
    "name": "ipython",
    "version": 3
   },
   "file_extension": ".py",
   "mimetype": "text/x-python",
   "name": "python",
   "nbconvert_exporter": "python",
   "pygments_lexer": "ipython3",
   "version": "3.9.0"
  },
  "orig_nbformat": 4
 },
 "nbformat": 4,
 "nbformat_minor": 2
}
